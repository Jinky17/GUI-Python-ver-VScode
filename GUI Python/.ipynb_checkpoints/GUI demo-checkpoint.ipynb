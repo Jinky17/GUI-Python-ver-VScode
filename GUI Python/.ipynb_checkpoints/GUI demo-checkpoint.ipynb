{
 "cells": [
  {
   "cell_type": "code",
   "execution_count": 8,
   "source": [
    "!pip install googletrans"
   ],
   "outputs": [
    {
     "output_type": "stream",
     "name": "stdout",
     "text": [
      "Requirement already satisfied: googletrans in c:\\users\\kyrie\\documents\\vs code - kyrie kurachi\\-\\lib\\site-packages (3.0.0)\n",
      "Requirement already satisfied: httpx==0.13.3 in c:\\users\\kyrie\\documents\\vs code - kyrie kurachi\\-\\lib\\site-packages (from googletrans) (0.13.3)\n",
      "Requirement already satisfied: httpcore==0.9.* in c:\\users\\kyrie\\documents\\vs code - kyrie kurachi\\-\\lib\\site-packages (from httpx==0.13.3->googletrans) (0.9.1)\n",
      "Requirement already satisfied: rfc3986<2,>=1.3 in c:\\users\\kyrie\\documents\\vs code - kyrie kurachi\\-\\lib\\site-packages (from httpx==0.13.3->googletrans) (1.5.0)\n",
      "Requirement already satisfied: hstspreload in c:\\users\\kyrie\\documents\\vs code - kyrie kurachi\\-\\lib\\site-packages (from httpx==0.13.3->googletrans) (2021.7.5)\n",
      "Requirement already satisfied: idna==2.* in c:\\users\\kyrie\\documents\\vs code - kyrie kurachi\\-\\lib\\site-packages (from httpx==0.13.3->googletrans) (2.10)\n",
      "Requirement already satisfied: chardet==3.* in c:\\users\\kyrie\\documents\\vs code - kyrie kurachi\\-\\lib\\site-packages (from httpx==0.13.3->googletrans) (3.0.4)\n",
      "Requirement already satisfied: sniffio in c:\\users\\kyrie\\documents\\vs code - kyrie kurachi\\-\\lib\\site-packages (from httpx==0.13.3->googletrans) (1.2.0)\n",
      "Requirement already satisfied: certifi in c:\\users\\kyrie\\documents\\vs code - kyrie kurachi\\-\\lib\\site-packages (from httpx==0.13.3->googletrans) (2021.5.30)\n",
      "Requirement already satisfied: h2==3.* in c:\\users\\kyrie\\documents\\vs code - kyrie kurachi\\-\\lib\\site-packages (from httpcore==0.9.*->httpx==0.13.3->googletrans) (3.2.0)\n",
      "Requirement already satisfied: h11<0.10,>=0.8 in c:\\users\\kyrie\\documents\\vs code - kyrie kurachi\\-\\lib\\site-packages (from httpcore==0.9.*->httpx==0.13.3->googletrans) (0.9.0)\n",
      "Requirement already satisfied: hyperframe<6,>=5.2.0 in c:\\users\\kyrie\\documents\\vs code - kyrie kurachi\\-\\lib\\site-packages (from h2==3.*->httpcore==0.9.*->httpx==0.13.3->googletrans) (5.2.0)\n",
      "Requirement already satisfied: hpack<4,>=3.0 in c:\\users\\kyrie\\documents\\vs code - kyrie kurachi\\-\\lib\\site-packages (from h2==3.*->httpcore==0.9.*->httpx==0.13.3->googletrans) (3.0.0)\n"
     ]
    },
    {
     "output_type": "stream",
     "name": "stderr",
     "text": [
      "You are using pip version 19.0.3, however version 21.1.3 is available.\n",
      "You should consider upgrading via the 'python -m pip install --upgrade pip' command.\n"
     ]
    }
   ],
   "metadata": {}
  },
  {
   "cell_type": "code",
   "execution_count": 2,
   "source": [
    "pip install --upgrade pip"
   ],
   "outputs": [
    {
     "output_type": "stream",
     "name": "stdout",
     "text": [
      "Collecting pip\n",
      "  Downloading https://files.pythonhosted.org/packages/47/ca/f0d790b6e18b3a6f3bd5e80c2ee4edbb5807286c21cdd0862ca933f751dd/pip-21.1.3-py3-none-any.whl (1.5MB)\n",
      "Installing collected packages: pip\n",
      "  Found existing installation: pip 19.1.1\n",
      "    Uninstalling pip-19.1.1:\n",
      "      Successfully uninstalled pip-19.1.1\n",
      "Successfully installed pip-21.1.3\n",
      "Note: you may need to restart the kernel to use updated packages.\n"
     ]
    }
   ],
   "metadata": {}
  },
  {
   "cell_type": "code",
   "execution_count": 3,
   "source": [
    "#import necessary packages \r\n",
    "\r\n",
    "import tkinter as tk \r\n",
    "from tkinter import *\r\n",
    "import googletrans\r\n",
    "from googletrans import Translator"
   ],
   "outputs": [],
   "metadata": {}
  },
  {
   "cell_type": "code",
   "execution_count": 4,
   "source": [
    "#Defining CrateWidgets() functions to create necessary tkinter widgets\r\n",
    "\r\n",
    "def CreateWidgets():\r\n",
    "    languagesListLabel = Label(root, text=\"SELECT A LANGUAGE FROM THE LSIT\", bg = \"darkslategrey\")\r\n",
    "    languagesListLabel.grid(row=0, column=3, padx=5, pady=5)\r\n",
    "\r\n",
    "    root.languagesListBox = Listbox(root, width=30, height = 15, bg = 'snow3')\r\n",
    "    root.languagesListBox.grid(row=1, column=3, rowspan=6, columnspan=3, padx=5, pady=2)"
   ],
   "outputs": [],
   "metadata": {}
  },
  {
   "cell_type": "code",
   "execution_count": 6,
   "source": [
    "# Display the languages in the ListBox\r\n",
    "\r\n",
    "# def languagesList():\r\n",
    "\r\n",
    "for c in languagesList:\r\n",
    "        root.languagesListBox.insert(END, (c + '-' + languagesList[c]))\r\n",
    "\r\n",
    "#Blinding onLanguageSelect() event to the ListBox Widget\r\n",
    "root.languagesListBox.bind('<<ListboxSelect>>', onLanguageSelect)"
   ],
   "outputs": [
    {
     "output_type": "error",
     "ename": "SyntaxError",
     "evalue": "invalid syntax (<ipython-input-6-e45fc9b5b8da>, line 5)",
     "traceback": [
      "\u001b[1;36m  File \u001b[1;32m\"<ipython-input-6-e45fc9b5b8da>\"\u001b[1;36m, line \u001b[1;32m5\u001b[0m\n\u001b[1;33m    for clanguagesList:ist:\u001b[0m\n\u001b[1;37m                      ^\u001b[0m\n\u001b[1;31mSyntaxError\u001b[0m\u001b[1;31m:\u001b[0m invalid syntax\n"
     ]
    }
   ],
   "metadata": {}
  },
  {
   "cell_type": "code",
   "execution_count": 20,
   "source": [
    "inputTextLabel = Label(root, text=\"TEXT TO DETECT : \", bg =\"darkslategrey\")\r\n",
    "inputTextLabel.grid(row=0, column=0, padx=10, pady= 5)\r\n",
    "inputTextEntry = Entry(root, width=20, bg=\"snow3\", textvariable=textToDetect)\r\n",
    "inputTextEntry.grid(row=0, column=1, padx=10, pady= 5)\r\n",
    "\r\n",
    "findButton = Button(root, text=\"DETECT & TRANSLATE\", command=detecttranslateLanguage)\r\n",
    "findButton.grid(row=0, column=1, padx=5, pady=5, columnspan=2 )\r\n",
    "\r\n",
    "detectedLanguageLabel = Label(root, text=\"DETECTED LANGUAGE : \", bg=\"darkslategrey\")\r\n",
    "detectedLanguageLabel.grid(row=2, column=0, padx=10, pady=5)\r\n",
    "root.detectedLanguage = Label(root, width=20, bg=\"snow3\")\r\n",
    "root.detectedlanguage.grid(row=2, column=1, padx=10, pady=5)\r\n",
    "\r\n",
    "\r\n",
    "\r\n"
   ],
   "outputs": [
    {
     "output_type": "error",
     "ename": "NameError",
     "evalue": "name 'root' is not defined",
     "traceback": [
      "\u001b[1;31m---------------------------------------------------------------------------\u001b[0m",
      "\u001b[1;31mNameError\u001b[0m                                 Traceback (most recent call last)",
      "\u001b[1;32m~\\AppData\\Local\\Temp/ipykernel_1276/1130379081.py\u001b[0m in \u001b[0;36m<module>\u001b[1;34m\u001b[0m\n\u001b[1;32m----> 1\u001b[1;33m \u001b[0minputTextLabel\u001b[0m \u001b[1;33m=\u001b[0m \u001b[0mLabel\u001b[0m\u001b[1;33m(\u001b[0m\u001b[0mroot\u001b[0m\u001b[1;33m,\u001b[0m \u001b[0mtext\u001b[0m\u001b[1;33m=\u001b[0m\u001b[1;34m\"TEXT TO DETECT : \"\u001b[0m\u001b[1;33m,\u001b[0m \u001b[0mbg\u001b[0m \u001b[1;33m=\u001b[0m\u001b[1;34m\"darkslategrey\"\u001b[0m\u001b[1;33m)\u001b[0m\u001b[1;33m\u001b[0m\u001b[1;33m\u001b[0m\u001b[0m\n\u001b[0m\u001b[0;32m      2\u001b[0m \u001b[0minputTextLabel\u001b[0m\u001b[1;33m.\u001b[0m\u001b[0mgrid\u001b[0m\u001b[1;33m(\u001b[0m\u001b[0mrow\u001b[0m\u001b[1;33m=\u001b[0m\u001b[1;36m0\u001b[0m\u001b[1;33m,\u001b[0m \u001b[0mcolumn\u001b[0m\u001b[1;33m=\u001b[0m\u001b[1;36m0\u001b[0m\u001b[1;33m,\u001b[0m \u001b[0mpadx\u001b[0m\u001b[1;33m=\u001b[0m\u001b[1;36m10\u001b[0m\u001b[1;33m,\u001b[0m \u001b[0mpady\u001b[0m\u001b[1;33m=\u001b[0m \u001b[1;36m5\u001b[0m\u001b[1;33m)\u001b[0m\u001b[1;33m\u001b[0m\u001b[1;33m\u001b[0m\u001b[0m\n\u001b[0;32m      3\u001b[0m \u001b[0minputTextEntry\u001b[0m \u001b[1;33m=\u001b[0m \u001b[0mEntry\u001b[0m\u001b[1;33m(\u001b[0m\u001b[0mroot\u001b[0m\u001b[1;33m,\u001b[0m \u001b[0mwidth\u001b[0m\u001b[1;33m=\u001b[0m\u001b[1;36m20\u001b[0m\u001b[1;33m,\u001b[0m \u001b[0mbg\u001b[0m\u001b[1;33m=\u001b[0m\u001b[1;34m\"snow3\"\u001b[0m\u001b[1;33m,\u001b[0m \u001b[0mtextvariable\u001b[0m\u001b[1;33m=\u001b[0m\u001b[0mtextToDetect\u001b[0m\u001b[1;33m)\u001b[0m\u001b[1;33m\u001b[0m\u001b[1;33m\u001b[0m\u001b[0m\n\u001b[0;32m      4\u001b[0m \u001b[0minputTextEntry\u001b[0m\u001b[1;33m.\u001b[0m\u001b[0mgrid\u001b[0m\u001b[1;33m(\u001b[0m\u001b[0mrow\u001b[0m\u001b[1;33m=\u001b[0m\u001b[1;36m0\u001b[0m\u001b[1;33m,\u001b[0m \u001b[0mcolumn\u001b[0m\u001b[1;33m=\u001b[0m\u001b[1;36m1\u001b[0m\u001b[1;33m,\u001b[0m \u001b[0mpadx\u001b[0m\u001b[1;33m=\u001b[0m\u001b[1;36m10\u001b[0m\u001b[1;33m,\u001b[0m \u001b[0mpady\u001b[0m\u001b[1;33m=\u001b[0m \u001b[1;36m5\u001b[0m\u001b[1;33m)\u001b[0m\u001b[1;33m\u001b[0m\u001b[1;33m\u001b[0m\u001b[0m\n\u001b[0;32m      5\u001b[0m \u001b[1;33m\u001b[0m\u001b[0m\n",
      "\u001b[1;31mNameError\u001b[0m: name 'root' is not defined"
     ]
    }
   ],
   "metadata": {}
  },
  {
   "cell_type": "code",
   "execution_count": null,
   "source": [
    "translatedLabel = Label(root, text=\"TEXT TO  TRANSLATE : \", bg=\"darkslategrey\")\r\n",
    "translatedLabel.grid(row=3, column=0, padx=10, pady=5)\r\n",
    "root.translated = Label(root, width=20, bg= 'snow3')\r\n",
    "root.translated.grid(row=3, column=1, padx=10, pady=5)\r\n",
    "\r\n",
    "i_translateTextLabel = Label(root, text=\"TEXT TO TRANSLATE : \", bg=\"darkslategrey\")\r\n",
    "i_translateTextLabel.grid(row=4, column=0, padx=10, pady=5)\r\n",
    "root.i_translateTextEntry = Entry(root, text=\"TEXT TO TRANSLATE : \", bg=\"darkslategrey\")\r\n",
    "root.i_translateTextEntry.grid(row=4, column=1, padx=10, pady=5)"
   ],
   "outputs": [],
   "metadata": {}
  },
  {
   "cell_type": "code",
   "execution_count": null,
   "source": [],
   "outputs": [],
   "metadata": {}
  },
  {
   "cell_type": "code",
   "execution_count": null,
   "source": [],
   "outputs": [],
   "metadata": {}
  },
  {
   "cell_type": "code",
   "execution_count": null,
   "source": [],
   "outputs": [],
   "metadata": {}
  },
  {
   "cell_type": "code",
   "execution_count": null,
   "source": [],
   "outputs": [],
   "metadata": {}
  },
  {
   "cell_type": "code",
   "execution_count": null,
   "source": [],
   "outputs": [],
   "metadata": {}
  }
 ],
 "metadata": {
  "kernelspec": {
   "display_name": "Python 3",
   "language": "python",
   "name": "python3"
  },
  "language_info": {
   "codemirror_mode": {
    "name": "ipython",
    "version": 3
   },
   "file_extension": ".py",
   "mimetype": "text/x-python",
   "name": "python",
   "nbconvert_exporter": "python",
   "pygments_lexer": "ipython3",
   "version": "3.7.3"
  }
 },
 "nbformat": 4,
 "nbformat_minor": 4
}