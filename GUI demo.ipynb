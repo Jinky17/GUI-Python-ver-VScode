{
 "cells": [
  {
   "cell_type": "code",
   "execution_count": 1,
   "source": [
    "pip install --upgrade pip"
   ],
   "outputs": [
    {
     "output_type": "stream",
     "name": "stdout",
     "text": [
      "Note: you may need to restart the kernel to use updated packages.\n"
     ]
    },
    {
     "output_type": "stream",
     "name": "stderr",
     "text": [
      "'c:\\Users\\Kyrie\\Documents\\VS' is not recognized as an internal or external command,\n",
      "operable program or batch file.\n"
     ]
    }
   ],
   "metadata": {}
  },
  {
   "cell_type": "code",
   "execution_count": 1,
   "source": [
    "!pip install googletrans"
   ],
   "outputs": [
    {
     "output_type": "stream",
     "name": "stdout",
     "text": [
      "Requirement already satisfied: googletrans in c:\\users\\kyrie\\anaconda3\\lib\\site-packages (3.0.0)\n",
      "Requirement already satisfied: httpx==0.13.3 in c:\\users\\kyrie\\anaconda3\\lib\\site-packages (from googletrans) (0.13.3)\n",
      "Requirement already satisfied: certifi in c:\\users\\kyrie\\anaconda3\\lib\\site-packages (from httpx==0.13.3->googletrans) (2019.6.16)\n",
      "Requirement already satisfied: chardet==3.* in c:\\users\\kyrie\\anaconda3\\lib\\site-packages (from httpx==0.13.3->googletrans) (3.0.4)\n",
      "Requirement already satisfied: hstspreload in c:\\users\\kyrie\\anaconda3\\lib\\site-packages (from httpx==0.13.3->googletrans) (2021.7.5)\n",
      "Requirement already satisfied: sniffio in c:\\users\\kyrie\\anaconda3\\lib\\site-packages (from httpx==0.13.3->googletrans) (1.2.0)\n",
      "Requirement already satisfied: idna==2.* in c:\\users\\kyrie\\anaconda3\\lib\\site-packages (from httpx==0.13.3->googletrans) (2.8)\n",
      "Requirement already satisfied: httpcore==0.9.* in c:\\users\\kyrie\\anaconda3\\lib\\site-packages (from httpx==0.13.3->googletrans) (0.9.1)\n",
      "Requirement already satisfied: rfc3986<2,>=1.3 in c:\\users\\kyrie\\anaconda3\\lib\\site-packages (from httpx==0.13.3->googletrans) (1.5.0)\n",
      "Requirement already satisfied: h2==3.* in c:\\users\\kyrie\\anaconda3\\lib\\site-packages (from httpcore==0.9.*->httpx==0.13.3->googletrans) (3.2.0)\n",
      "Requirement already satisfied: h11<0.10,>=0.8 in c:\\users\\kyrie\\anaconda3\\lib\\site-packages (from httpcore==0.9.*->httpx==0.13.3->googletrans) (0.9.0)\n",
      "Requirement already satisfied: hyperframe<6,>=5.2.0 in c:\\users\\kyrie\\anaconda3\\lib\\site-packages (from h2==3.*->httpcore==0.9.*->httpx==0.13.3->googletrans) (5.2.0)\n",
      "Requirement already satisfied: hpack<4,>=3.0 in c:\\users\\kyrie\\anaconda3\\lib\\site-packages (from h2==3.*->httpcore==0.9.*->httpx==0.13.3->googletrans) (3.0.0)\n"
     ]
    }
   ],
   "metadata": {}
  },
  {
   "cell_type": "code",
   "execution_count": 3,
   "source": [
    "#import necessary packages \r\n",
    "\r\n",
    "import tkinter as tk \r\n",
    "from tkinter import *\r\n",
    "import googletrans\r\n",
    "from googletrans import Translator\r\n",
    "import numpy as np"
   ],
   "outputs": [],
   "metadata": {}
  },
  {
   "cell_type": "code",
   "execution_count": 4,
   "source": [
    "#Defining CrateWidgets() functions to create necessary tkinter widgets\r\n",
    "\r\n",
    "def CreateWidgets():\r\n",
    "    languagesListLabel = Label(root, text=\"SELECT A LANGUAGE FROM THE LSIT\", bg = \"darkslategrey\")\r\n",
    "    languagesListLabel.grid(row=0, column=3, padx=5, pady=5)\r\n",
    "\r\n",
    "    root.languagesListBox = Listbox(root, width=30, height = 15, bg = 'snow3')\r\n",
    "    root.languagesListBox.grid(row=1, column=3, rowspan=6, columnspan=3, padx=5, pady=2)"
   ],
   "outputs": [],
   "metadata": {}
  },
  {
   "cell_type": "code",
   "execution_count": 9,
   "source": [
    "# Display the languages in the ListBox\r\n",
    "def languageList[root]\r\n",
    "\r\n",
    "for c in languagesList:\r\n",
    "    root.languagesListBox.insert(END, (c + '-' + languagesList[c]))\r\n",
    "\r\n",
    "\r\n",
    "#Blinding onLanguageSelect() event to the ListBox Widget\r\n",
    "root.languagesListBox.bind('<<ListboxSelect>>', onLanguageSelect)"
   ],
   "outputs": [
    {
     "output_type": "error",
     "ename": "SyntaxError",
     "evalue": "invalid syntax (<ipython-input-9-802036bfa6fc>, line 2)",
     "traceback": [
      "\u001b[1;36m  File \u001b[1;32m\"<ipython-input-9-802036bfa6fc>\"\u001b[1;36m, line \u001b[1;32m2\u001b[0m\n\u001b[1;33m    def languageList[root]\u001b[0m\n\u001b[1;37m                    ^\u001b[0m\n\u001b[1;31mSyntaxError\u001b[0m\u001b[1;31m:\u001b[0m invalid syntax\n"
     ]
    }
   ],
   "metadata": {}
  },
  {
   "cell_type": "code",
   "execution_count": 11,
   "source": [
    "inputTextLabel = Label(root, text=\"TEXT TO DETECT : \", bg =\"darkslategrey\")\r\n",
    "inputTextLabel.grid(row=0, column=0, padx=10, pady= 5)\r\n",
    "inputTextEntry = Entry(root, width=20, bg=\"snow3\", textvariable=textToDetect)\r\n",
    "inputTextEntry.grid(row=0, column=1, padx=10, pady= 5)\r\n",
    "\r\n",
    "findButton = Button(root, text=\"DETECT & TRANSLATE\", command=detecttranslateLanguage)\r\n",
    "findButton.grid(row=0, column=1, padx=5, pady=5, columnspan=2 )\r\n",
    "\r\n",
    "detectedLanguageLabel = Label(root, text=\"DETECTED LANGUAGE : \", bg=\"darkslategrey\")\r\n",
    "detectedLanguageLabel.grid(row=2, column=0, padx=10, pady=5)\r\n",
    "root.detectedLanguage = Label(root, width=20, bg=\"snow3\")\r\n",
    "root.detectedlanguage.grid(row=2, column=1, padx=10, pady=5)\r\n",
    "\r\n",
    "\r\n",
    "\r\n"
   ],
   "outputs": [
    {
     "output_type": "error",
     "ename": "NameError",
     "evalue": "name 'root' is not defined",
     "traceback": [
      "\u001b[1;31m---------------------------------------------------------------------------\u001b[0m",
      "\u001b[1;31mNameError\u001b[0m                                 Traceback (most recent call last)",
      "\u001b[1;32m<ipython-input-11-8683919b4822>\u001b[0m in \u001b[0;36m<module>\u001b[1;34m\u001b[0m\n\u001b[1;32m----> 1\u001b[1;33m \u001b[0minputTextLabel\u001b[0m \u001b[1;33m=\u001b[0m \u001b[0mLabel\u001b[0m\u001b[1;33m(\u001b[0m\u001b[0mroot\u001b[0m\u001b[1;33m,\u001b[0m \u001b[0mtext\u001b[0m\u001b[1;33m=\u001b[0m\u001b[1;34m\"TEXT TO DETECT : \"\u001b[0m\u001b[1;33m,\u001b[0m \u001b[0mbg\u001b[0m \u001b[1;33m=\u001b[0m\u001b[1;34m\"darkslategrey\"\u001b[0m\u001b[1;33m)\u001b[0m\u001b[1;33m\u001b[0m\u001b[1;33m\u001b[0m\u001b[0m\n\u001b[0m\u001b[0;32m      2\u001b[0m \u001b[0minputTextLabel\u001b[0m\u001b[1;33m.\u001b[0m\u001b[0mgrid\u001b[0m\u001b[1;33m(\u001b[0m\u001b[0mrow\u001b[0m\u001b[1;33m=\u001b[0m\u001b[1;36m0\u001b[0m\u001b[1;33m,\u001b[0m \u001b[0mcolumn\u001b[0m\u001b[1;33m=\u001b[0m\u001b[1;36m0\u001b[0m\u001b[1;33m,\u001b[0m \u001b[0mpadx\u001b[0m\u001b[1;33m=\u001b[0m\u001b[1;36m10\u001b[0m\u001b[1;33m,\u001b[0m \u001b[0mpady\u001b[0m\u001b[1;33m=\u001b[0m \u001b[1;36m5\u001b[0m\u001b[1;33m)\u001b[0m\u001b[1;33m\u001b[0m\u001b[1;33m\u001b[0m\u001b[0m\n\u001b[0;32m      3\u001b[0m \u001b[0minputTextEntry\u001b[0m \u001b[1;33m=\u001b[0m \u001b[0mEntry\u001b[0m\u001b[1;33m(\u001b[0m\u001b[0mroot\u001b[0m\u001b[1;33m,\u001b[0m \u001b[0mwidth\u001b[0m\u001b[1;33m=\u001b[0m\u001b[1;36m20\u001b[0m\u001b[1;33m,\u001b[0m \u001b[0mbg\u001b[0m\u001b[1;33m=\u001b[0m\u001b[1;34m\"snow3\"\u001b[0m\u001b[1;33m,\u001b[0m \u001b[0mtextvariable\u001b[0m\u001b[1;33m=\u001b[0m\u001b[0mtextToDetect\u001b[0m\u001b[1;33m)\u001b[0m\u001b[1;33m\u001b[0m\u001b[1;33m\u001b[0m\u001b[0m\n\u001b[0;32m      4\u001b[0m \u001b[0minputTextEntry\u001b[0m\u001b[1;33m.\u001b[0m\u001b[0mgrid\u001b[0m\u001b[1;33m(\u001b[0m\u001b[0mrow\u001b[0m\u001b[1;33m=\u001b[0m\u001b[1;36m0\u001b[0m\u001b[1;33m,\u001b[0m \u001b[0mcolumn\u001b[0m\u001b[1;33m=\u001b[0m\u001b[1;36m1\u001b[0m\u001b[1;33m,\u001b[0m \u001b[0mpadx\u001b[0m\u001b[1;33m=\u001b[0m\u001b[1;36m10\u001b[0m\u001b[1;33m,\u001b[0m \u001b[0mpady\u001b[0m\u001b[1;33m=\u001b[0m \u001b[1;36m5\u001b[0m\u001b[1;33m)\u001b[0m\u001b[1;33m\u001b[0m\u001b[1;33m\u001b[0m\u001b[0m\n\u001b[0;32m      5\u001b[0m \u001b[1;33m\u001b[0m\u001b[0m\n",
      "\u001b[1;31mNameError\u001b[0m: name 'root' is not defined"
     ]
    }
   ],
   "metadata": {}
  },
  {
   "cell_type": "code",
   "execution_count": 8,
   "source": [
    "translatedLabel = Label(root, text=\"TEXT TO  TRANSLATE : \", bg=\"darkslategrey\")\r\n",
    "translatedLabel.grid(row=3, column=0, padx=10, pady=5)\r\n",
    "root.translated = Label(root, width=20, bg= 'snow3')\r\n",
    "root.translated.grid(row=3, column=1, padx=10, pady=5)\r\n",
    "\r\n",
    "i_translateTextLabel = Label(root, text=\"TEXT TO TRANSLATE : \", bg=\"darkslategrey\")\r\n",
    "i_translateTextLabel.grid(row=4, column=0, padx=10, pady=5)\r\n",
    "root.i_translateTextEntry = Entry(root, text=\"TEXT TO TRANSLATE : \", bg=\"darkslategrey\")\r\n",
    "root.i_translateTextEntry.grid(row=4, column=1, padx=10, pady=5)\r\n",
    "\r\n",
    "languageLabel = Label(root, text=\"SELECTED LANGUAGE : \", bg=\"darkslategrey\")\r\n",
    "languageLabel.grid(row=5, column=0, padx=10, pady=5)\r\n",
    "root.languageEntry = Label(root, width=20, bg='snow3')\r\n",
    "root.languageEntry.grid(row=7, column=1, padx=10, pady=5)\r\n",
    "\r\n",
    "\r\n",
    "translateButton = Button(root, text=\"TRANSLATE TEXT : \", command = translateText)\r\n",
    "translateButton.grid(row=6, column=1, padx=5, pady=5, columnspan=2)\r\n",
    "\r\n",
    "translatedTextLabel = Label(root, text=\"TRANSLATED TEXT :\", bg=\"darkslategrey\")\r\n",
    "translatedTextLabel.grid(row=7, column=0, padx=10, pady=5)\r\n",
    "root.translatedText = Label(root, width=20, bg='snow3')\r\n",
    "root.tranalatedText.grid(row=7, column=1, padx=10, pady=5)\r\n"
   ],
   "outputs": [
    {
     "output_type": "error",
     "ename": "NameError",
     "evalue": "name 'root' is not defined",
     "traceback": [
      "\u001b[1;31m---------------------------------------------------------------------------\u001b[0m",
      "\u001b[1;31mNameError\u001b[0m                                 Traceback (most recent call last)",
      "\u001b[1;32m~\\AppData\\Local\\Temp/ipykernel_25908/3056546709.py\u001b[0m in \u001b[0;36m<module>\u001b[1;34m\u001b[0m\n\u001b[1;32m----> 1\u001b[1;33m \u001b[0mtranslatedLabel\u001b[0m \u001b[1;33m=\u001b[0m \u001b[0mLabel\u001b[0m\u001b[1;33m(\u001b[0m\u001b[0mroot\u001b[0m\u001b[1;33m,\u001b[0m \u001b[0mtext\u001b[0m\u001b[1;33m=\u001b[0m\u001b[1;34m\"TEXT TO  TRANSLATE : \"\u001b[0m\u001b[1;33m,\u001b[0m \u001b[0mbg\u001b[0m\u001b[1;33m=\u001b[0m\u001b[1;34m\"darkslategrey\"\u001b[0m\u001b[1;33m)\u001b[0m\u001b[1;33m\u001b[0m\u001b[1;33m\u001b[0m\u001b[0m\n\u001b[0m\u001b[0;32m      2\u001b[0m \u001b[0mtranslatedLabel\u001b[0m\u001b[1;33m.\u001b[0m\u001b[0mgrid\u001b[0m\u001b[1;33m(\u001b[0m\u001b[0mrow\u001b[0m\u001b[1;33m=\u001b[0m\u001b[1;36m3\u001b[0m\u001b[1;33m,\u001b[0m \u001b[0mcolumn\u001b[0m\u001b[1;33m=\u001b[0m\u001b[1;36m0\u001b[0m\u001b[1;33m,\u001b[0m \u001b[0mpadx\u001b[0m\u001b[1;33m=\u001b[0m\u001b[1;36m10\u001b[0m\u001b[1;33m,\u001b[0m \u001b[0mpady\u001b[0m\u001b[1;33m=\u001b[0m\u001b[1;36m5\u001b[0m\u001b[1;33m)\u001b[0m\u001b[1;33m\u001b[0m\u001b[1;33m\u001b[0m\u001b[0m\n\u001b[0;32m      3\u001b[0m \u001b[0mroot\u001b[0m\u001b[1;33m.\u001b[0m\u001b[0mtranslated\u001b[0m \u001b[1;33m=\u001b[0m \u001b[0mLabel\u001b[0m\u001b[1;33m(\u001b[0m\u001b[0mroot\u001b[0m\u001b[1;33m,\u001b[0m \u001b[0mwidth\u001b[0m\u001b[1;33m=\u001b[0m\u001b[1;36m20\u001b[0m\u001b[1;33m,\u001b[0m \u001b[0mbg\u001b[0m\u001b[1;33m=\u001b[0m \u001b[1;34m'snow3'\u001b[0m\u001b[1;33m)\u001b[0m\u001b[1;33m\u001b[0m\u001b[1;33m\u001b[0m\u001b[0m\n\u001b[0;32m      4\u001b[0m \u001b[0mroot\u001b[0m\u001b[1;33m.\u001b[0m\u001b[0mtranslated\u001b[0m\u001b[1;33m.\u001b[0m\u001b[0mgrid\u001b[0m\u001b[1;33m(\u001b[0m\u001b[0mrow\u001b[0m\u001b[1;33m=\u001b[0m\u001b[1;36m3\u001b[0m\u001b[1;33m,\u001b[0m \u001b[0mcolumn\u001b[0m\u001b[1;33m=\u001b[0m\u001b[1;36m1\u001b[0m\u001b[1;33m,\u001b[0m \u001b[0mpadx\u001b[0m\u001b[1;33m=\u001b[0m\u001b[1;36m10\u001b[0m\u001b[1;33m,\u001b[0m \u001b[0mpady\u001b[0m\u001b[1;33m=\u001b[0m\u001b[1;36m5\u001b[0m\u001b[1;33m)\u001b[0m\u001b[1;33m\u001b[0m\u001b[1;33m\u001b[0m\u001b[0m\n\u001b[0;32m      5\u001b[0m \u001b[1;33m\u001b[0m\u001b[0m\n",
      "\u001b[1;31mNameError\u001b[0m: name 'root' is not defined"
     ]
    }
   ],
   "metadata": {}
  },
  {
   "cell_type": "code",
   "execution_count": 12,
   "source": [
    "#Defining onLanguageSelect() function ListBox selection detection \r\n",
    "\r\n",
    "def onLanguageSelect(evt):\r\n",
    "    language = root.languagesListBox.get(root.languagesListBox.curselection())\r\n",
    "    root.languageEntry.config(text=language)\r\n",
    "\r\n",
    "#Defining detecttranslateLanguage() function to detect the language of the entered text\r\n",
    "def detecttranslateLanguage():\r\n",
    "    #Storing the input text to detect language\r\n",
    "    inputTextToDetect = textToDetect.get()\r\n",
    "    \r\n",
    "#Detecting the language of the entered text using the detect() method which returns the\r\n",
    "#detected language in the from of shorthand notation\r\n",
    "detectedLanguage = translator.detect(inputTextToDetect)\r\n",
    "detectedLanguage = detectedlanguage.lang\r\n",
    "\r\n",
    "#Using the returned shorthand notation fethcing the language from the languageList and \r\n",
    "#displaying it tkinter window\r\n",
    "detectedLanguage= languagesList[detectedlanguage]\r\n",
    "root.detectedLanguage.config(text=detectedLanguage)\r\n",
    "\r\n",
    "#Translating the entered text to the ENGLISH language using the translate() which takes input \r\n",
    "#text and shorthand notation of the language as arguments. \r\n",
    "#Language to which text to be translated is stored in the dest attribute.\r\n",
    "translatedText = translator.translate(inputTextToDetect, dest='en')\r\n",
    "\r\n",
    "#Showing the translated text in the tkinter window\r\n",
    "root.translated.config(text=translatedText.text)\r\n",
    "\r\n",
    "\r\n",
    "\r\n"
   ],
   "outputs": [
    {
     "output_type": "error",
     "ename": "NameError",
     "evalue": "name 'translator' is not defined",
     "traceback": [
      "\u001b[1;31m---------------------------------------------------------------------------\u001b[0m",
      "\u001b[1;31mNameError\u001b[0m                                 Traceback (most recent call last)",
      "\u001b[1;32m<ipython-input-12-fc73ee8c5812>\u001b[0m in \u001b[0;36m<module>\u001b[1;34m\u001b[0m\n\u001b[0;32m     12\u001b[0m \u001b[1;31m#Detecting the language of the entered text using the detect() method which returns the\u001b[0m\u001b[1;33m\u001b[0m\u001b[1;33m\u001b[0m\u001b[1;33m\u001b[0m\u001b[0m\n\u001b[0;32m     13\u001b[0m \u001b[1;31m#detected language in the from of shorthand notation\u001b[0m\u001b[1;33m\u001b[0m\u001b[1;33m\u001b[0m\u001b[1;33m\u001b[0m\u001b[0m\n\u001b[1;32m---> 14\u001b[1;33m \u001b[0mdetectedLanguage\u001b[0m \u001b[1;33m=\u001b[0m \u001b[0mtranslator\u001b[0m\u001b[1;33m.\u001b[0m\u001b[0mdetect\u001b[0m\u001b[1;33m(\u001b[0m\u001b[0minputTextToDetect\u001b[0m\u001b[1;33m)\u001b[0m\u001b[1;33m\u001b[0m\u001b[1;33m\u001b[0m\u001b[0m\n\u001b[0m\u001b[0;32m     15\u001b[0m \u001b[0mdetectedLanguage\u001b[0m \u001b[1;33m=\u001b[0m \u001b[0mdetectedlanguage\u001b[0m\u001b[1;33m.\u001b[0m\u001b[0mlang\u001b[0m\u001b[1;33m\u001b[0m\u001b[1;33m\u001b[0m\u001b[0m\n\u001b[0;32m     16\u001b[0m \u001b[1;33m\u001b[0m\u001b[0m\n",
      "\u001b[1;31mNameError\u001b[0m: name 'translator' is not defined"
     ]
    }
   ],
   "metadata": {}
  },
  {
   "cell_type": "code",
   "execution_count": null,
   "source": [
    "#Defining translateText() function to translated the entered text to selected language \r\n",
    "def translateText(): \r\n",
    "    #Storing the user-input text to be translated in inputTextToTranlsted variable\r\n",
    "    inputTextToTranslate = textToTranslate.get()\r\n",
    "\r\n",
    "    \r\n",
    "    #Storing the selected language on '-' and fetching the first item from the resulting list \r\n",
    "    #which corresponds to the SHORTHAND NOTATION OF THE LANGUAGE and storing it \r\n",
    "    shorthand_notation = language.split('-')[0]\r\n",
    "\r\n",
    "\r\n",
    "    #Translating the entered text to the selected language using the translate() which \r\n",
    "    #takes input text and shorthand notation of the language as arguments.\r\n",
    "    # Language to which text to be translated is stored in the dest attribute\r\n",
    "    translatedText = translator.tranlate(inputTextToTranslate, dest=shorthand_notation)\r\n",
    "    \r\n",
    "    \r\n",
    "    #Showing the translated text in the tkinter window\r\n",
    "    root.translatedText.config(text=translatedText.text)\r\n"
   ],
   "outputs": [],
   "metadata": {}
  },
  {
   "cell_type": "code",
   "execution_count": 17,
   "source": [
    "#Creating object of tk class\r\n",
    "root = tk.Tk()\r\n",
    "\r\n",
    "# Setting the title, background colour, windowsize & disabling the resizing property \r\n",
    "root.title(\"PythonLanguageDetectorTranlator\")\r\n",
    "root.config(background = \"darkslategrey\")\r\n",
    "root.geometry(\"690x350\")\r\n",
    "root.resizable(False, False)"
   ],
   "outputs": [
    {
     "output_type": "execute_result",
     "data": {
      "text/plain": [
       "''"
      ]
     },
     "metadata": {},
     "execution_count": 17
    }
   ],
   "metadata": {}
  },
  {
   "cell_type": "code",
   "execution_count": 18,
   "source": [
    "#Creating the tkinter variables \r\n",
    "textToDetect = StringVar()\r\n",
    "textToTranslate = StringVar()"
   ],
   "outputs": [],
   "metadata": {}
  },
  {
   "cell_type": "code",
   "execution_count": 19,
   "source": [
    "#Fetching the languages supported by googletrans using LANGUAGES which returns dictionary \r\n",
    "#of supported languages and storing it the languageList variable\r\n",
    "languageList = googletrans.LANGUAGES"
   ],
   "outputs": [],
   "metadata": {}
  },
  {
   "cell_type": "code",
   "execution_count": 20,
   "source": [
    "#Creating an object of the Translator class\r\n",
    "translator = Translator()\r\n"
   ],
   "outputs": [],
   "metadata": {}
  },
  {
   "cell_type": "code",
   "execution_count": 21,
   "source": [
    "#Calling the CreateWidgets() function \r\n",
    "CreateWidgets()\r\n"
   ],
   "outputs": [],
   "metadata": {}
  },
  {
   "cell_type": "code",
   "execution_count": 22,
   "source": [
    "#Defining infinite loop to run application\r\n",
    "root.mainloop()"
   ],
   "outputs": [
    {
     "output_type": "error",
     "ename": "KeyboardInterrupt",
     "evalue": "",
     "traceback": [
      "\u001b[1;31m---------------------------------------------------------------------------\u001b[0m",
      "\u001b[1;31mKeyboardInterrupt\u001b[0m                         Traceback (most recent call last)",
      "\u001b[1;32m<ipython-input-22-6ec602fb45a5>\u001b[0m in \u001b[0;36m<module>\u001b[1;34m\u001b[0m\n\u001b[0;32m      1\u001b[0m \u001b[1;31m#Defining infinite loop to run application\u001b[0m\u001b[1;33m\u001b[0m\u001b[1;33m\u001b[0m\u001b[1;33m\u001b[0m\u001b[0m\n\u001b[1;32m----> 2\u001b[1;33m \u001b[0mroot\u001b[0m\u001b[1;33m.\u001b[0m\u001b[0mmainloop\u001b[0m\u001b[1;33m(\u001b[0m\u001b[1;33m)\u001b[0m\u001b[1;33m\u001b[0m\u001b[1;33m\u001b[0m\u001b[0m\n\u001b[0m",
      "\u001b[1;32m~\\Anaconda3\\lib\\tkinter\\__init__.py\u001b[0m in \u001b[0;36mmainloop\u001b[1;34m(self, n)\u001b[0m\n\u001b[0;32m   1281\u001b[0m     \u001b[1;32mdef\u001b[0m \u001b[0mmainloop\u001b[0m\u001b[1;33m(\u001b[0m\u001b[0mself\u001b[0m\u001b[1;33m,\u001b[0m \u001b[0mn\u001b[0m\u001b[1;33m=\u001b[0m\u001b[1;36m0\u001b[0m\u001b[1;33m)\u001b[0m\u001b[1;33m:\u001b[0m\u001b[1;33m\u001b[0m\u001b[1;33m\u001b[0m\u001b[0m\n\u001b[0;32m   1282\u001b[0m         \u001b[1;34m\"\"\"Call the mainloop of Tk.\"\"\"\u001b[0m\u001b[1;33m\u001b[0m\u001b[1;33m\u001b[0m\u001b[0m\n\u001b[1;32m-> 1283\u001b[1;33m         \u001b[0mself\u001b[0m\u001b[1;33m.\u001b[0m\u001b[0mtk\u001b[0m\u001b[1;33m.\u001b[0m\u001b[0mmainloop\u001b[0m\u001b[1;33m(\u001b[0m\u001b[0mn\u001b[0m\u001b[1;33m)\u001b[0m\u001b[1;33m\u001b[0m\u001b[1;33m\u001b[0m\u001b[0m\n\u001b[0m\u001b[0;32m   1284\u001b[0m     \u001b[1;32mdef\u001b[0m \u001b[0mquit\u001b[0m\u001b[1;33m(\u001b[0m\u001b[0mself\u001b[0m\u001b[1;33m)\u001b[0m\u001b[1;33m:\u001b[0m\u001b[1;33m\u001b[0m\u001b[1;33m\u001b[0m\u001b[0m\n\u001b[0;32m   1285\u001b[0m         \u001b[1;34m\"\"\"Quit the Tcl interpreter. All widgets will be destroyed.\"\"\"\u001b[0m\u001b[1;33m\u001b[0m\u001b[1;33m\u001b[0m\u001b[0m\n",
      "\u001b[1;31mKeyboardInterrupt\u001b[0m: "
     ]
    }
   ],
   "metadata": {}
  },
  {
   "cell_type": "code",
   "execution_count": null,
   "source": [],
   "outputs": [],
   "metadata": {}
  }
 ],
 "metadata": {
  "kernelspec": {
   "display_name": "Python 3",
   "language": "python",
   "name": "python3"
  },
  "language_info": {
   "codemirror_mode": {
    "name": "ipython",
    "version": 3
   },
   "file_extension": ".py",
   "mimetype": "text/x-python",
   "name": "python",
   "nbconvert_exporter": "python",
   "pygments_lexer": "ipython3",
   "version": "3.7.3"
  }
 },
 "nbformat": 4,
 "nbformat_minor": 4
}